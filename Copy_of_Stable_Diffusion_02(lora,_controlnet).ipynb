{
  "cells": [
    {
      "cell_type": "markdown",
      "metadata": {
        "id": "view-in-github",
        "colab_type": "text"
      },
      "source": [
        "<a href=\"https://colab.research.google.com/github/AdityaPrasad275/ComicGPT/blob/main/Copy_of_Stable_Diffusion_02(lora%2C_controlnet).ipynb\" target=\"_parent\"><img src=\"https://colab.research.google.com/assets/colab-badge.svg\" alt=\"Open In Colab\"/></a>"
      ]
    },
    {
      "cell_type": "markdown",
      "metadata": {
        "id": "4X6nqvYZ7xBs"
      },
      "source": [
        "# **StableDiffusion GoogleColab version**\n",
        "\n",
        "# ![pp.png](data:image/png;base64,iVBORw0KGgoAAAANSUhEUgAAABgAAAAYCAMAAADXqc3KAAACYVBMVEVHcEwXRoMTPn0VQoAWRIEPNXIQOHYPNnMQOXf+/v4SPXwTQH4OM3ARO3oXR4QWQ38OMGsXRYIOMm4RO3kPNHANMGoUPnkUP3oMLWcNL2kTPHcVPngXRYEVPngVQHoVP3kMLGQOM28LKmEUPXYMLGUNLmgOM28SPXoSPHoPNHAPNXAOMW0OMWwPNXESO3YXRoQKJ1oKJVYQMmUOMW0RNmwGGTsKJlgJI1ISN20GGTwNKFARNGcKJFQJJFQRNWkPNHEWRIAJH0EUPHUGGDkLJEgMJk0SN20HG0AFFjUTOG4OMm0LI0gUP3sRN3AQN3QMJUoMLGMLKFsJJFUGFzcWQn0PNG4MLGQUQH0QOXYKJVYNL2gLKl8QM2gOL2QGGTkLKV8UPHQVQ4ALKl8MJU0PMWcHGz0RN3EPNW8KIUYNL2np7PKxvtIWPXlAYZRNbJoWP3y8yNpHa5tde6bs8PRMbp2Em7yVqcXh5u6brcjc4uzo7fLM1eNyjLIdR4MtVYwyWI65xtnn7PL///8XRYIROngQOHUPNXEYR4QSPHsUQX8WRIEQNXIQNnMUQH4ROXcPNHEPM3AQOXYSPXwXRoMWQn0QN3QRO3oVQoATP30OM28VQX4PN3QYRoMXRYESPHgWQ38VQ4AWRIAOMm0OMW0OMGsOMm4RO3kUQH0UP3sTQH4TPn0ROXYcQnzK0+AQOHbT2+aWp8J4kLPy9PcVP33x9Pe7x9kTPXwcR4OxwNVAZZdLa5m1wtYRO3iAlrf4+ftBYpQoTob4+vutvdLq7vPd4+xkgKqxv9Ta4Or+/v79/v42WpD34U+dAAAAgnRSTlMA/v7+/v7+/v7+/v7+/v7+/v7+/v7+/v7z8/Pz/ub8++b+urr7/Pv+/vvm/Ob+/P52XFz+diB2XHYgIFxcXFz+/iGoICEgeCAheP4g/qj+Iah4eCH+uqj+/ni6qFx4Iaio/nggeCGouiG6/v7+/v7+/v7+/v7+/v7+/v7+/v7+/v7+qhvhNgAAAcFJREFUKM9jYIAAFzdlWXl5WWVPfwZk4JogF7JQpllQxmGKnJMVQtxaesrcOe1gMGfuFGk7mLiJOH+zPl87EPLxtesLzhe3gIgbifELTmZknAyEIJKxmV8sBiTuLTWrqxkFdM2SSgZK+PosYGHpAiEgAWEkrkhjYHDUC5/OzAxEO4oPVzVWHioEsZfrZTDEzuvtBIHt+5qaTjQ1NR3cCeT0zkthCFXn7uUGopImzmO1dQ1NnGVA7kr1dAYtDaYZTEBU2sR5lImppomzAshdpaHFoCnMNYkLiAqaOE9x1Vc3cRaBuMKaDGotHSCweUtT05HjJ5uadm8DcVvUGHQ4hKfx8k7L5WwCQs7yvfm8QO4yDh2GqKktILCxqWnrrv0H9rRAwNRMhkDdiD4Ojr5szqY8IM3RB0YTdZMY4rT91rGxrc7i3JQzkY2NbSIYTdVOZWAImDC7tXXN2vUbWuFg9oQwYFiZSvazs/eAEJCAMOwl3UHBayMgwtrNCkRAAswQETCERIiZ6Mz+NjjonylqAItCc4nFijwTePp5eHgmKBpL2CIi3TleVWCR0FIhIa8lqtGWKOnEI0hJQUVFQSkyGCoAAExQpE2pj7kUAAAAAElFTkSuQmCC) **[Buy me a coffee](https://www.paypal.me/maratsk)**\n",
        "\n",
        "\n",
        "![youtube.png](data:image/png;base64,iVBORw0KGgoAAAANSUhEUgAAABAAAAAQCAMAAAAoLQ9TAAAAJ1BMVEVHcEz/AAD/AAD/AAD/AAD/AAD/AAD/AAD/AAD/////mJj/wcH/jY3aUCqcAAAACHRSTlMA8czbELSvDrGIfzkAAABCSURBVBiVY2AgA7CwMTMycgABIyMzGztQgIkDCTABBThQAEyAixtNgIeTkwu/AIYWZEMxrGVhZWaE8BiZWVnI8RoAJWEEDt2WmW4AAAAASUVORK5CYII=) **[YouTube](https://www.youtube.com/watch?v=dQw4w9WgXcQ)** | ![youtube.png](data:image/png;base64,iVBORw0KGgoAAAANSUhEUgAAABAAAAAQCAMAAAAoLQ9TAAAA0lBMVEVHcEwASXEAVIIASXEAW40AW40AW40AW40AW40AW40ASXEARmwASXEAPV4ATnkAQGQAUoAAUn8AWowAQmYANFEANVIAQWUASXEAUHwAQmcAWowASXEAUX0AW40ASXGPscSPr8B/pLh/rcYMUXdJfZkDS3KlwtIqdqBWhqB9q8WZtsY/dpQzbY1Xh6GUs8MAWowAUHwAVoUqdp8AVIJ9pLkqZ4h9orelvsyJq70AWosAWYoATniNrb+kwM8ATHZ+oreBpbnF1t8DS3PI1+BbiaNbiqT25ex8AAAAHXRSTlMAmzOe3PvEmp3+3Ar+CjM0M/v7CgoKCsUzNNz7+yV3I4EAAACzSURBVBjTTY/XEoJADEUjbUEBezdrASxg7737/79kdmEcz9PeM5NsLgCRY5qua0yBmKJpocQyMyJXDPxhCGPiHyZAzcJBvy3pL9FSgCGOhlwyXC+QgYbYO/si+/suXzVAJ+Hdyfg3r8t5Kxbj12TyGAvRlCPR9Pl5B9OIRFouDQOxIwi3nKfApW8vHcluw+26POx45QkqXerQ6YdTnKtlUcahcrM5RVstJX1dphXy6VRWvL8EBRlO0i9n9wAAAABJRU5ErkJggg==) **[sdg.marat@gmail.com]** |\n",
        "\n",
        "\n",
        "_You don't need additional Google Drive storage because uploaded models are not stored on your Google Drive. After the session ends, all data will be deleted. You can either download ControlNet models on your own or let me know if you want me to make it for you._"
      ]
    },
    {
      "cell_type": "code",
      "execution_count": null,
      "metadata": {
        "id": "ciseg_wdLz3S",
        "colab": {
          "base_uri": "https://localhost:8080/"
        },
        "outputId": "72c96a12-e962-49fc-bed6-8af2075a7302"
      },
      "outputs": [
        {
          "output_type": "stream",
          "name": "stdout",
          "text": [
            "\u001b[1;32mDone!\n"
          ]
        }
      ],
      "source": [
        "#@markdown # **STEP 1**\n",
        "#@markdown ## Requirements\n",
        "from IPython.display import clear_output\n",
        "\n",
        "print('\u001b[1;32mInstalling requirements...')\n",
        "#%pip install --quiet blendmodes accelerate basicsr fonts font-roboto gfpgan gradio invisible-watermark numpy omegaconf opencv-contrib-python requests piexif Pillow pytorch-lightning==1.7.7 realesrgan scikit-image==0.19 timm==0.4.12 transformers==4.25.1 torch einops jsonmerge clean-fid resize-right torchdiffeq kornia lark inflection GitPython torchsde safetensors psutil rich\n",
        "#%cd /content/\n",
        "!git clone -q --branch main https://github.com/AlexSgt/lite_colab\n",
        "%cd /content/lite_colab\n",
        "%pip install -r requirements.txt --quiet\n",
        "!sed -i \"s@os.path.splitext(checkpoint_file)@os.path.splitext(checkpoint_file); map_location='cuda'@\" /content/lite_colab/modules/sd_models.py\n",
        "!sed -i 's@ui.create_ui().*@ui.create_ui();shared.demo.queue(concurrency_count=999999,status_update_rate=0.1)@' /content/lite_colab/startfk.py\n",
        "!sed -i \"s@map_location='cpu'@map_location='cuda'@\" /content/lite_colab/modules/extras.py\n",
        "!cp /content/lite_colab/assets/blocks.py /usr/local/lib/python3.10/dist-packages/gradio/blocks.py\n",
        "\n",
        "clear_output()\n",
        "print('\u001b[1;32mDone!')\n",
        "#!python launch.py --share --theme dark --api --ckpt-dir /content/models/ --disable-safe-unpickle --enable-insecure-extension-access --opt-sdp-attention --disable-console-progressbars --no-download-sd-model"
      ]
    },
    {
      "cell_type": "code",
      "execution_count": null,
      "metadata": {
        "id": "QnLCXo9BTYOa",
        "colab": {
          "base_uri": "https://localhost:8080/"
        },
        "outputId": "b4cc63b6-d90c-4665-d680-51571a661dd0"
      },
      "outputs": [
        {
          "output_type": "stream",
          "name": "stdout",
          "text": [
            "\u001b[1;32mDone!\n"
          ]
        }
      ],
      "source": [
        "#@markdown # **STEP 2**\n",
        "#@markdown ## Choose your model\n",
        "#@markdown _Paste link from huggingface.co or leave the default model_\n",
        "\n",
        "MODEL_LINK = \"https://huggingface.co/SG161222/Realistic_Vision_V2.0/resolve/main/Realistic_Vision_V2.0-fp16-no-ema-inpainting.safetensors\" #@param {type:\"string\"}\n",
        "safetensors = True #@param {type:\"boolean\"}\n",
        "\n",
        "if MODEL_LINK != \"\":\n",
        "  pth = '/content/lite_colab/models/Stable-diffusion/'\n",
        "  if not safetensors:\n",
        "    modelname=\"model.ckpt\"\n",
        "  else:\n",
        "    modelname=\"model.safetensors\"\n",
        "  dwnld = pth + modelname\n",
        "  print('\u001b[1;32mDownload model...')\n",
        "  !gdown --fuzzy -O $dwnld \"$MODEL_LINK\"\n",
        "  clear_output()\n",
        "  print('\u001b[1;32mDone!')\n",
        "else:\n",
        "  print('\u001b[1;31mPaste model link and try again!')\n",
        "\n"
      ]
    },
    {
      "cell_type": "code",
      "execution_count": null,
      "metadata": {
        "cellView": "form",
        "collapsed": true,
        "id": "hbtn5DljpN-S",
        "colab": {
          "base_uri": "https://localhost:8080/"
        },
        "outputId": "5a0de2ea-6c23-432e-9317-61962efd3e47"
      },
      "outputs": [
        {
          "output_type": "stream",
          "name": "stdout",
          "text": [
            "Downloading model from https://civitai.com/api/download/models/62833...\n",
            "Download complete!\n",
            "Downloading model from https://civitai.com/api/download/models/63006...\n",
            "Download complete!\n",
            "Downloading model from https://civitai.com/api/download/models/10580...\n",
            "Download complete!\n",
            "Downloading model from https://civitai.com/api/download/models/7804...\n",
            "Download complete!\n",
            "Downloading model from https://civitai.com/api/download/models/9739...\n",
            "Download complete!\n"
          ]
        }
      ],
      "source": [
        "#@markdown # **STEP 2.1** (optional)\n",
        "#@markdown ## Choose Lora model\n",
        "\n",
        "\n",
        "\n",
        "\n",
        "\n",
        "import os\n",
        "import urllib.parse\n",
        "import requests\n",
        "\n",
        "Lora_model_link1 = 'https://civitai.com/api/download/models/62833' #@param {type:\"string\"}\n",
        "Lora_model_link2 = 'https://civitai.com/api/download/models/63006' #@param {type:\"string\"}\n",
        "Lora_model_link3 = 'https://civitai.com/api/download/models/10580' #@param {type:\"string\"}\n",
        "Lora_model_link4 = 'https://civitai.com/api/download/models/7804' #@param {type:\"string\"}\n",
        "Lora_model_link5 = 'https://civitai.com/api/download/models/9739' #@param {type:\"string\"}\n",
        "\n",
        "links = [\n",
        "   Lora_model_link1,\n",
        "   Lora_model_link2,\n",
        "   Lora_model_link3,\n",
        "   Lora_model_link4,\n",
        "   Lora_model_link5\n",
        "]\n",
        "\n",
        "pth = '/content/lite_colab/models/Lora/'\n",
        "\n",
        "os.makedirs(pth, exist_ok=True)\n",
        "\n",
        "for link in links:\n",
        "    if not link:\n",
        "        continue  # Skip empty links\n",
        "    parsed_url = urllib.parse.urlparse(link)\n",
        "    if not parsed_url.scheme or not parsed_url.netloc:\n",
        "        print(f'Error: Invalid URL - {link}')\n",
        "        continue  # Skip invalid URLs\n",
        "    filename = os.path.join(pth, os.path.basename(parsed_url.path))  # Extract the filename from the URL\n",
        "    filename_with_extension = f\"{filename}.safetensors\"  # Append .safetensors extension to the filename\n",
        "    print(f'Downloading model from {link}...')\n",
        "    try:\n",
        "        response = requests.get(link, stream=True)\n",
        "        response.raise_for_status()  # Raise an exception for non-2xx status codes\n",
        "        # Check if the response headers indicate a valid file\n",
        "        content_length = response.headers.get('content-length')\n",
        "        if not content_length or int(content_length) == 0:\n",
        "            print(f'Error downloading model. File not found or empty: {link}')\n",
        "            continue  # Skip further processing\n",
        "        with open(filename_with_extension, 'wb') as file:\n",
        "            for chunk in response.iter_content(chunk_size=8192):\n",
        "                file.write(chunk)\n",
        "        if os.path.exists(filename_with_extension) and os.path.getsize(filename_with_extension) > 0:\n",
        "            print('Download complete!')\n",
        "        else:\n",
        "            if os.path.exists(filename_with_extension):\n",
        "                os.remove(filename_with_extension)\n",
        "            print(f'Error downloading model. File not found or empty: {link}')\n",
        "    except requests.exceptions.RequestException as e:\n",
        "        print(f'Error downloading model: {str(e)}')"
      ]
    },
    {
      "cell_type": "code",
      "execution_count": null,
      "metadata": {
        "cellView": "form",
        "id": "lGY40kWopTat"
      },
      "outputs": [],
      "source": [
        "#@markdown # **STEP 2.2** ControlNet (optional)\n",
        "#@markdown ## Run this cell if you need controlnet models.\n",
        "#@markdown List of used models: https://huggingface.co/lllyasviel/ControlNet-v1-1/tree/main\n",
        "import os\n",
        "import requests\n",
        "from tqdm import tqdm\n",
        "\n",
        "def download_files(urls, directory):\n",
        "    for url in urls:\n",
        "        filename = os.path.basename(url)\n",
        "        file_path = os.path.join(directory, filename)\n",
        "\n",
        "        response = requests.get(url, stream=True)\n",
        "        response.raise_for_status()\n",
        "\n",
        "        total_size = int(response.headers.get('Content-Length', 0))\n",
        "        block_size = 8192  # Adjust the block size as per your preference\n",
        "\n",
        "        progress_bar = tqdm(total=total_size, unit='B', unit_scale=True, desc=filename)\n",
        "\n",
        "        with open(file_path, 'wb') as file:\n",
        "            for data in response.iter_content(block_size):\n",
        "                progress_bar.update(len(data))\n",
        "                file.write(data)\n",
        "\n",
        "        progress_bar.close()\n",
        "        print(f\"File downloaded successfully: {file_path}\")\n",
        "\n",
        "# Usage\n",
        "links = [\n",
        "    \"https://huggingface.co/lllyasviel/ControlNet-v1-1/resolve/main/control_v11p_sd15_canny.pth\",\n",
        "    \"https://huggingface.co/lllyasviel/ControlNet-v1-1/resolve/main/control_v11f1p_sd15_depth.pth\",\n",
        "    \"https://huggingface.co/lllyasviel/ControlNet-v1-1/resolve/main/control_v11p_sd15_lineart.pth\",\n",
        "    \"https://huggingface.co/lllyasviel/ControlNet-v1-1/resolve/main/control_v11p_sd15_mlsd.pth\",\n",
        "    \"https://huggingface.co/lllyasviel/ControlNet-v1-1/resolve/main/control_v11p_sd15_normalbae.pth\",\n",
        "    \"https://huggingface.co/lllyasviel/ControlNet-v1-1/resolve/main/control_v11p_sd15_openpose.pth\",\n",
        "    \"https://huggingface.co/lllyasviel/ControlNet-v1-1/resolve/main/control_v11p_sd15_scribble.pth\",\n",
        "    \"https://huggingface.co/lllyasviel/ControlNet-v1-1/resolve/main/control_v11p_sd15_seg.pth\",\n",
        "    \"https://huggingface.co/lllyasviel/ControlNet-v1-1/resolve/main/control_v11e_sd15_ip2p.pth\",\n",
        "    \"https://huggingface.co/lllyasviel/ControlNet-v1-1/resolve/main/control_v11e_sd15_shuffle.pth\",\n",
        "    \"https://huggingface.co/lllyasviel/ControlNet-v1-1/resolve/main/control_v11p_sd15_canny.pth\",\n",
        "    \"https://huggingface.co/lllyasviel/ControlNet-v1-1/resolve/main/control_v11f1p_sd15_depth.pth\",\n",
        "    \"https://huggingface.co/lllyasviel/ControlNet-v1-1/resolve/main/control_v11p_sd15_lineart.pth\",\n",
        "    \"https://huggingface.co/lllyasviel/ControlNet-v1-1/resolve/main/control_v11p_sd15_mlsd.pth\",\n",
        "    \"https://huggingface.co/lllyasviel/ControlNet-v1-1/resolve/main/control_v11p_sd15_normalbae.pth\",\n",
        "    \"https://huggingface.co/lllyasviel/ControlNet-v1-1/resolve/main/control_v11p_sd15_openpose.pth\",\n",
        "    \"https://huggingface.co/lllyasviel/ControlNet-v1-1/resolve/main/control_v11p_sd15_scribble.pth\",\n",
        "    \"https://huggingface.co/lllyasviel/ControlNet-v1-1/resolve/main/control_v11p_sd15_seg.pth\",\n",
        "    \"https://huggingface.co/lllyasviel/ControlNet-v1-1/resolve/main/control_v11e_sd15_ip2p.pth\",\n",
        "    \"https://huggingface.co/lllyasviel/ControlNet-v1-1/resolve/main/control_v11e_sd15_shuffle.pth\",\n",
        "    \"https://huggingface.co/lllyasviel/ControlNet-v1-1/resolve/main/control_v11p_sd15_inpaint.pth\",\n",
        "    \"https://huggingface.co/lllyasviel/ControlNet-v1-1/resolve/main/control_v11p_sd15_softedge.pth\",\n",
        "    \"https://huggingface.co/lllyasviel/ControlNet-v1-1/resolve/main/control_v11p_sd15s2_lineart_anime.pth\",\n",
        "    \"https://huggingface.co/lllyasviel/ControlNet-v1-1/resolve/main/control_v11f1e_sd15_tile.pth\",\n",
        "    \"https://huggingface.co/webui/ControlNet-modules-safetensors/resolve/main/t2iadapter_keypose-fp16.safetensors\",\n",
        "    \"https://huggingface.co/webui/ControlNet-modules-safetensors/resolve/main/t2iadapter_seg-fp16.safetensors\",\n",
        "    \"https://huggingface.co/webui/ControlNet-modules-safetensors/resolve/main/t2iadapter_sketch-fp16.safetensors\",\n",
        "    \"https://huggingface.co/webui/ControlNet-modules-safetensors/resolve/main/t2iadapter_depth-fp16.safetensors\",\n",
        "    \"https://huggingface.co/webui/ControlNet-modules-safetensors/resolve/main/t2iadapter_canny-fp16.safetensors\",\n",
        "    \"https://huggingface.co/webui/ControlNet-modules-safetensors/resolve/main/t2iadapter_color-fp16.safetensors\",\n",
        "    \"https://huggingface.co/webui/ControlNet-modules-safetensors/resolve/main/t2iadapter_style-fp16.safetensors\",\n",
        "    'https://huggingface.co/webui/ControlNet-modules-safetensors/resolve/main/t2iadapter_openpose-fp16.safetensors'\n",
        "]\n",
        " # Replace with your list of file URLs\n",
        "\n",
        "directory = \"/content/lite_colab/extensions/lite-kaggle-controlnet/models\"  # Replace with your desired directory\n",
        "\n",
        "download_files(links, directory)\n",
        "\n"
      ]
    },
    {
      "cell_type": "code",
      "execution_count": null,
      "metadata": {
        "id": "HAFOrFrYyZaY",
        "colab": {
          "base_uri": "https://localhost:8080/"
        },
        "outputId": "ee42ebde-b32e-4bfe-df89-08ea31be2877"
      },
      "outputs": [
        {
          "output_type": "stream",
          "name": "stdout",
          "text": [
            "Python 3.10.12 (main, Jun  7 2023, 12:45:35) [GCC 9.4.0]\n",
            "Commit hash: 97a7e49258138c95b5d607e5e0152d52979d760d\n",
            "Installing requirements\n",
            "\n",
            "Launching startfk with arguments: --share --api --disable-safe-unpickle --enable-insecure-extension-access --opt-sdp-attention --disable-console-progressbars --no-download-sd-model\n",
            "2023-07-18 18:05:55.393474: I tensorflow/core/platform/cpu_feature_guard.cc:182] This TensorFlow binary is optimized to use available CPU instructions in performance-critical operations.\n",
            "To enable the following instructions: AVX2 FMA, in other operations, rebuild TensorFlow with the appropriate compiler flags.\n",
            "2023-07-18 18:05:56.397950: W tensorflow/compiler/tf2tensorrt/utils/py_utils.cc:38] TF-TRT Warning: Could not find TensorRT\n",
            "No module 'xformers'. Proceeding without it.\n",
            "ControlNet v1.1.145\n",
            "ControlNet v1.1.145\n",
            "Calculating sha256 for /content/lite_colab/models/Stable-diffusion/model.safetensors: 6482f11700cbadc269e0804689e72acb37ad5054c50603835098e575d0786cf4\n",
            "Loading weights [6482f11700] from /content/lite_colab/models/Stable-diffusion/model.safetensors\n",
            "Creating model from config: /content/lite_colab/configs/v1-inpainting-inference.yaml\n",
            "LatentInpaintDiffusion: Running in eps-prediction mode\n",
            "DiffusionWrapper has 859.54 M params.\n",
            "Downloading (…)olve/main/vocab.json: 100% 961k/961k [00:00<00:00, 16.1MB/s]\n",
            "Downloading (…)olve/main/merges.txt: 100% 525k/525k [00:00<00:00, 3.04MB/s]\n",
            "Downloading (…)cial_tokens_map.json: 100% 389/389 [00:00<00:00, 1.83MB/s]\n",
            "Downloading (…)okenizer_config.json: 100% 905/905 [00:00<00:00, 5.49MB/s]\n",
            "Downloading (…)lve/main/config.json: 100% 4.52k/4.52k [00:00<00:00, 19.5MB/s]\n",
            "Applying scaled dot product cross attention optimization.\n",
            "Textual inversion embeddings loaded(0): \n",
            "Model loaded in 16.5s (calculate hash: 9.0s, load weights from disk: 1.1s, create model: 1.8s, apply weights to model: 2.7s, apply half(): 1.1s, move model to device: 0.6s).\n",
            "Running on public URL: https://d96812b141eae7d5f4.gradio.live\n",
            "\u001b[32m✔ Connected\n",
            "Startup time: 30.7s (import torch: 4.7s, import gradio: 0.8s, import ldm: 0.4s, other imports: 0.9s, load scripts: 1.5s, load SD checkpoint: 16.5s, create ui: 0.4s, gradio launch: 5.4s, scripts app_started_callback: 0.1s).\n",
            "100% 20/20 [00:05<00:00,  3.72it/s]\n",
            "100% 20/20 [00:02<00:00,  7.03it/s]\n",
            "100% 16/16 [00:02<00:00,  7.10it/s]\n",
            "100% 16/16 [00:02<00:00,  7.13it/s]\n",
            "100% 16/16 [00:02<00:00,  7.10it/s]\n",
            "100% 20/20 [00:02<00:00,  7.05it/s]\n",
            "Interrupted with signal 2 in <frame at 0x1588aff0, file '/content/lite_colab/startfk.py', line 266, code wait_on_server>\n"
          ]
        }
      ],
      "source": [
        "#@markdown # **STEP 3**\n",
        "#@markdown ## Run StableDiffusion\n",
        "\n",
        "!python launch.py --share --api --disable-safe-unpickle --enable-insecure-extension-access --opt-sdp-attention --disable-console-progressbars --no-download-sd-model"
      ]
    },
    {
      "cell_type": "code",
      "source": [
        "gradio"
      ],
      "metadata": {
        "id": "RiLDPqiPInWD"
      },
      "execution_count": null,
      "outputs": []
    },
    {
      "cell_type": "markdown",
      "metadata": {
        "id": "2g9c90Rs12kb"
      },
      "source": [
        "<form action=\"https://www.paypal.com/cgi-bin/webscr\" method=\"post\" target=\"_top\">\n",
        "  <input type=\"hidden\" name=\"cmd\" value=\"_s-xclick\" />\n",
        "  <input type=\"hidden\" name=\"hosted_button_id\" value=\"MDH8APKUVYW4L\" />\n",
        "  <table>\n",
        "    <tr>\n",
        "      <td>\n",
        "        <input type=\"hidden\" name=\"on0\" value=\"Thank you for donation!:)\"/>\n",
        "        Thank you for donation!:)\n",
        "      </td>\n",
        "    </tr>\n",
        "    <tr>\n",
        "      <td>\n",
        "        <input type=\"text\" name=\"os0\" maxLength=\"200\" />\n",
        "      </td>\n",
        "    </tr>\n",
        "  </table>\n",
        "  <input type=\"hidden\" name=\"currency_code\" value=\"USD\" />\n",
        "  <input type=\"image\" src=\"https://www.paypalobjects.com/en_US/i/btn/btn_paynowCC_LG.gif\" border=\"0\" name=\"submit\" title=\"PayPal - The safer, easier way to pay online!\" alt=\"Buy Now\" />\n",
        "</form>"
      ]
    }
  ],
  "metadata": {
    "accelerator": "GPU",
    "colab": {
      "provenance": [],
      "include_colab_link": true
    },
    "gpuClass": "standard",
    "kernelspec": {
      "display_name": "Python 3",
      "name": "python3"
    },
    "language_info": {
      "name": "python"
    }
  },
  "nbformat": 4,
  "nbformat_minor": 0
}